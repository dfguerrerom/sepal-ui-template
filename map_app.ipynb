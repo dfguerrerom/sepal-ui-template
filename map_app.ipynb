{
 "cells": [
  {
   "cell_type": "code",
   "execution_count": 2,
   "metadata": {},
   "outputs": [],
   "source": [
    "import ipyvuetify as v\n",
    "from sepal_ui.mapping import SepalMap\n",
    "from ipyleaflet import WidgetControl"
   ]
  },
  {
   "cell_type": "code",
   "execution_count": 3,
   "metadata": {},
   "outputs": [],
   "source": [
    "map_ = SepalMap(fullscreen_control=True, zoom=2)\n",
    "map_.add_class(\"full-screen-map\")\n"
   ]
  },
  {
   "cell_type": "code",
   "execution_count": null,
   "metadata": {},
   "outputs": [],
   "source": [
    "dialog = v.Dialog(\n",
    "    v_model=True,\n",
    "    children = [\n",
    "        v.Card(\n",
    "            children = [\n",
    "                v.CardTitle(children = [\"About\"]),\n",
    "                v.CardText(children = [\"This is a simple map to show the location of the study area.\"]),\n",
    "                v.Select(items=[\"a\", \"b\", \"c\"], label=\"Select\"),\n",
    "            ]\n",
    "        )\n",
    "    ]\n",
    ")\n",
    "\n",
    "btn = v.Btn(\n",
    "    style_=\"z-index: 900 !important; background-color: white;\",\n",
    "    children = [\"Assbout\"],\n",
    "    color = \"primary\",\n",
    "    class_ = \"ma-2\",\n",
    "    outlined = True,\n",
    ")\n",
    "btn.add_class(\"on-top\")\n",
    "\n",
    "\n",
    "btn.on_event(\"click\", lambda *args: setattr(dialog, \"v_model\", not dialog.v_model))\n",
    "map_.add(WidgetControl(widget=btn, position=\"topright\"))"
   ]
  },
  {
   "cell_type": "code",
   "execution_count": null,
   "metadata": {},
   "outputs": [],
   "source": [
    "app_bar_icon = v.AppBarNavIcon()\n",
    "\n",
    "button_fail = v.Btn(children=[\"Action 1\"])\n",
    "# button_fail.on_event(\"click\", lambda *args: 1/0)\n",
    "v.App(\n",
    "    _metadata={\"mount_id\": \"content\"},\n",
    "    children=[\n",
    "        # v.Overlay(color=\"blue\", opacity=1, style_=\"transition:unset\", z_index=-1),\n",
    "        v.AppBar(\n",
    "            app=True, children=[app_bar_icon, v.ToolbarTitle(children=[\"My files\"])]\n",
    "        ),\n",
    "        v.Content(\n",
    "            children=[\n",
    "                v.Container(\n",
    "                    fluid=True,\n",
    "                    children=[\n",
    "                        dialog,\n",
    "                        map_, \n",
    "                    ],\n",
    "                )\n",
    "            ]\n",
    "        ),\n",
    "    ],\n",
    ")\n",
    "dialog.v_model = True\n"
   ]
  }
 ],
 "metadata": {
  "kernelspec": {
   "display_name": "Python 3",
   "language": "python",
   "name": "python3"
  },
  "language_info": {
   "codemirror_mode": {
    "name": "ipython",
    "version": 3
   },
   "file_extension": ".py",
   "mimetype": "text/x-python",
   "name": "python",
   "nbconvert_exporter": "python",
   "pygments_lexer": "ipython3",
   "version": "3.10.12"
  }
 },
 "nbformat": 4,
 "nbformat_minor": 2
}
