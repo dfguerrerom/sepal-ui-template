{
 "cells": [
  {
   "cell_type": "code",
   "execution_count": null,
   "metadata": {},
   "outputs": [],
   "source": [
    "import ipyvuetify as v\n",
    "from IPython.display import Javascript\n",
    "from time import sleep"
   ]
  },
  {
   "cell_type": "code",
   "execution_count": null,
   "metadata": {},
   "outputs": [],
   "source": [
    "# display(Javascript(\"console.log('Hello from Javascript')\"))"
   ]
  },
  {
   "cell_type": "code",
   "execution_count": null,
   "metadata": {},
   "outputs": [],
   "source": [
    "embed = \"console.log('hola')\"\n",
    "full = \"console.log('mundo')\""
   ]
  },
  {
   "cell_type": "code",
   "execution_count": null,
   "metadata": {},
   "outputs": [],
   "source": [
    "f\"\"\"{'embed'}\"\"\""
   ]
  },
  {
   "cell_type": "code",
   "execution_count": null,
   "metadata": {},
   "outputs": [],
   "source": [
    "template = v.VuetifyTemplate(\n",
    "    template=(\n",
    "        \"\"\"\n",
    "        <script class='sepal-ui-script'>\n",
    "            window.methods = {\n",
    "                embed : function embed(){%s}, \n",
    "                fullscreen: function fullscreen(){%s},\n",
    "            }\n",
    "            window.methods['embed']();\n",
    "        </script>\n",
    "        <script class='sepal-ui-script'>\n",
    "            {\n",
    "                methods: {\n",
    "                    jupyter_embed(){%s},\n",
    "                    jupyter_fullscreen(){%s}\n",
    "                }\n",
    "            };\n",
    "        </script>\n",
    "        \"\"\" % (embed, full, embed, full)\n",
    "    )\n",
    ")\n",
    "display(template)"
   ]
  },
  {
   "cell_type": "code",
   "execution_count": null,
   "metadata": {},
   "outputs": [],
   "source": [
    "def action(*args):\n",
    "    #  self.METHODS[self.zoomed], \"args\": []}\n",
    "    template.send({\"method\": \"embed\", \"args\": []})"
   ]
  },
  {
   "cell_type": "code",
   "execution_count": null,
   "metadata": {},
   "outputs": [],
   "source": [
    "btn = v.Btn(_metadata={'mount_id': 'content'}, children=['Click me'])\n",
    "btn.on_event('click', action)\n",
    "btn"
   ]
  },
  {
   "cell_type": "code",
   "execution_count": null,
   "metadata": {},
   "outputs": [],
   "source": []
  }
 ],
 "metadata": {
  "kernelspec": {
   "display_name": "Python 3",
   "language": "python",
   "name": "python3"
  },
  "language_info": {
   "codemirror_mode": {
    "name": "ipython",
    "version": 3
   },
   "file_extension": ".py",
   "mimetype": "text/x-python",
   "name": "python",
   "nbconvert_exporter": "python",
   "pygments_lexer": "ipython3",
   "version": "3.10.12"
  },
  "title": "My geospatial-ui tool",
  "voila": {
   "template": "sepal-ui-base"
  }
 },
 "nbformat": 4,
 "nbformat_minor": 2
}
