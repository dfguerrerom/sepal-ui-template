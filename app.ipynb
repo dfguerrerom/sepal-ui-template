{
 "cells": [
  {
   "cell_type": "code",
   "execution_count": null,
   "metadata": {},
   "outputs": [],
   "source": [
    "import ipyvuetify as v\n",
    "from time import sleep\n",
    "import ee\n",
    "import sepal_ui.mapping as sm\n",
    "from IPython.display import Javascript\n",
    "# ee.Number(5).getInfo()\n",
    "# sleep(10000)"
   ]
  },
  {
   "cell_type": "code",
   "execution_count": null,
   "metadata": {},
   "outputs": [],
   "source": [
    "display(Javascript(\"console.log('hello')\", ), metadata={\"mount_id\": \"console\"})"
   ]
  },
  {
   "cell_type": "code",
   "execution_count": null,
   "metadata": {},
   "outputs": [],
   "source": [
    "# check that the map start with no info\n",
    "map_ = sm.SepalMap(_metadata={'mount_id': 'content'})"
   ]
  },
  {
   "cell_type": "code",
   "execution_count": null,
   "metadata": {},
   "outputs": [],
   "source": [
    "card = v.Card(children = [f\"{map_.model_id}\"], _metadata = {'mount_id': 'content'})\n",
    "card.children = [card.model_id]"
   ]
  },
  {
   "cell_type": "code",
   "execution_count": null,
   "metadata": {},
   "outputs": [],
   "source": [
    "# add a fullscreenControl\n",
    "control = sm.FullScreenControl(map_)\n",
    "map_.add(control)"
   ]
  },
  {
   "cell_type": "code",
   "execution_count": null,
   "metadata": {},
   "outputs": [],
   "source": [
    "# app_bar_icon = v.AppBarNavIcon()\n",
    "# nav_drawer = v.NavigationDrawer(\n",
    "#     v_model=True,\n",
    "#     app=True,\n",
    "#     children=[\n",
    "#         v.List(\n",
    "#             nav=True,\n",
    "#             dense=True,\n",
    "#             children=[\n",
    "#                 v.ListItemGroup(\n",
    "#                     v_model=\"group\",\n",
    "#                     active_class=\"deep-purple--text text--accent-4\",\n",
    "#                     children=[\n",
    "#                         v.ListItem(children=[v.ListItemTitle(children=[\"Foo\"])]),\n",
    "#                         v.ListItem(children=[v.ListItemTitle(children=[\"Bar\"])]),\n",
    "#                         v.ListItem(children=[v.ListItemTitle(children=[\"Fizz\"])]),\n",
    "#                         v.ListItem(children=[v.ListItemTitle(children=[\"Buzz\"])]),\n",
    "#                     ],\n",
    "#                 )\n",
    "#             ],\n",
    "#         ),\n",
    "#     ],\n",
    "# )\n",
    "# app_bar_icon.on_event(\n",
    "#     \"click\", lambda *args: setattr(nav_drawer, \"v_model\", not nav_drawer.v_model)\n",
    "# )\n",
    "\n",
    "# button_fail = v.Btn(children=[\"Action 1\"])\n",
    "# # button_fail.on_event(\"click\", lambda *args: 1/0)\n",
    "# button_fail.on_event(\"click\", lambda *args: sleep(1))\n",
    "\n",
    "# v.App(\n",
    "#     _metadata={\"mount_id\": \"content\"},\n",
    "#     children=[\n",
    "#         # v.Overlay(color=\"blue\", opacity=1, style_=\"transition:unset\", z_index=-1),\n",
    "#         v.AppBar(\n",
    "#             app=True, children=[app_bar_icon, v.ToolbarTitle(children=[\"My files\"])]\n",
    "#         ),\n",
    "#         nav_drawer,\n",
    "#         v.Content(\n",
    "#             children=[\n",
    "#                 v.Container(\n",
    "#                     fluid=True,\n",
    "#                     children=[\n",
    "#                         map_, \n",
    "#                         # v.Layout(\n",
    "#                         #     align_center=True,\n",
    "#                         #     class_=\"ma-5\",\n",
    "#                         #     children=[\n",
    "#                         #         v.Card(\n",
    "#                         #             children=[\n",
    "#                         #                 v.CardTitle(children=[\"Card title\"]),\n",
    "#                         #                 v.CardText(\n",
    "#                         #                     children=[\"Some text goes here\" * 100]\n",
    "#                         #                 ),\n",
    "#                         #                 v.CardActions(\n",
    "#                         #                     children=[\n",
    "#                         #                         v.Btn(children=[\"Action 2\"]),\n",
    "#                         #                         button_fail\n",
    "#                         #                     ]\n",
    "#                         #                 ),\n",
    "#                         #             ]\n",
    "#                         #         )\n",
    "#                         #         for _ in range(3)\n",
    "#                         #     ],\n",
    "#                         # )\n",
    "#                     ],\n",
    "#                 )\n",
    "#             ]\n",
    "#         ),\n",
    "#     ],\n",
    "# )"
   ]
  }
 ],
 "metadata": {
  "kernelspec": {
   "display_name": "Python 3",
   "language": "python",
   "name": "python3"
  },
  "language_info": {
   "codemirror_mode": {
    "name": "ipython",
    "version": 3
   },
   "file_extension": ".py",
   "mimetype": "text/x-python",
   "name": "python",
   "nbconvert_exporter": "python",
   "pygments_lexer": "ipython3",
   "version": "3.10.12"
  }
 },
 "nbformat": 4,
 "nbformat_minor": 2
}
