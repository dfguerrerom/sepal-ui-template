{
 "cells": [
  {
   "cell_type": "code",
   "execution_count": null,
   "metadata": {},
   "outputs": [],
   "source": [
    "import ee\n",
    "ee.Number(1).getInfo()"
   ]
  },
  {
   "cell_type": "code",
   "execution_count": null,
   "metadata": {},
   "outputs": [],
   "source": [
    "import ipyvuetify as v\n",
    "from IPython.display import Javascript\n",
    "# v.theme.dark = True\n",
    "styles = \"\"\"\n",
    "#rendered_cells {\n",
    "  contain: revert !important;\n",
    "  padding: 0px !important;\n",
    "}\n",
    "\n",
    "#jp-main-content-panel {\n",
    "  contain: revert !important;\n",
    "}\n",
    "\n",
    ".jp-Cell {\n",
    "  padding: 0px !important;\n",
    "}\n",
    "\n",
    ".body {\n",
    "  background-color : purple;\n",
    "}\n",
    "\n",
    "\"\"\""
   ]
  },
  {
   "cell_type": "code",
   "execution_count": 1,
   "metadata": {},
   "outputs": [],
   "source": [
    "from sepal_ui.mapping import SepalMap"
   ]
  },
  {
   "cell_type": "code",
   "execution_count": 2,
   "metadata": {},
   "outputs": [],
   "source": [
    "map_ = SepalMap()"
   ]
  },
  {
   "cell_type": "code",
   "execution_count": null,
   "metadata": {},
   "outputs": [],
   "source": [
    "app_bar_icon = v.AppBarNavIcon()\n",
    "nav_drawer = v.NavigationDrawer(\n",
    "    v_model=\"drawer\",\n",
    "    app=True,\n",
    "    children=[\n",
    "\n",
    "        v.List(\n",
    "            nav=True,\n",
    "            dense=True,\n",
    "            children=[\n",
    "                v.ListItemGroup(\n",
    "                    v_model=\"group\",\n",
    "                    active_class=\"deep-purple--text text--accent-4\",\n",
    "                    children=[\n",
    "                        v.ListItem(children=[v.ListItemTitle(children = [\"Foo\"])]),\n",
    "                        v.ListItem(children=[v.ListItemTitle(children = [\"Bar\"])]),\n",
    "                        v.ListItem(children=[v.ListItemTitle(children = [\"Fizz\"])]),\n",
    "                        v.ListItem(children=[v.ListItemTitle(children = [\"Buzz\"])]),\n",
    "                    ],\n",
    "                )\n",
    "            ],\n",
    "        ),\n",
    "    ],\n",
    ")\n",
    "app_bar_icon.on_event('click', lambda *args: setattr(nav_drawer, \"v_model\", not nav_drawer.v_model))\n",
    "v.App(\n",
    "    _metadata={'mount_id': 'content'},\n",
    "    children=[\n",
    "        v.Html(tag='style', children=[styles]),\n",
    "        # v.Overlay(color=\"blue\", opacity=1, style_=\"transition:unset\", z_index=-1),\n",
    "        v.AppBar(app=True, children=[\n",
    "            app_bar_icon,\n",
    "            v.ToolbarTitle(children=[\"My files\"])\n",
    "        ]),\n",
    "        nav_drawer,\n",
    "        v.Content(\n",
    "            children = [\n",
    "                v.Container(\n",
    "                    fluid=True,\n",
    "                    children = [\n",
    "                        v.Layout(\n",
    "                            align_center=True,\n",
    "                            class_=\"ma-5 d-inline\",\n",
    "                            children = [\n",
    "                                v.Card(\n",
    "                                    children = [\n",
    "                                        v.CardTitle(children=[\"Card title\"]),\n",
    "                                        v.CardText(children=[\"Some text goes here\"*100]),\n",
    "                                        # map_,\n",
    "                                        v.CardActions(children=[\n",
    "                                            v.Btn(children=[\"Action 1\"]),\n",
    "                                            v.Btn(children=[\"Action 2\"]),\n",
    "                                        ])\n",
    "                                    ]\n",
    "                                ) for _ in range(1)\n",
    "                            ]\n",
    "                        )\n",
    "                    ]\n",
    "                )\n",
    "            ]\n",
    "        )\n",
    "\n",
    "    ]\n",
    ")"
   ]
  }
 ],
 "metadata": {
  "kernelspec": {
   "display_name": "Python 3",
   "language": "python",
   "name": "python3"
  },
  "language_info": {
   "codemirror_mode": {
    "name": "ipython",
    "version": 3
   },
   "file_extension": ".py",
   "mimetype": "text/x-python",
   "name": "python",
   "nbconvert_exporter": "python",
   "pygments_lexer": "ipython3",
   "version": "3.10.12"
  }
 },
 "nbformat": 4,
 "nbformat_minor": 2
}
