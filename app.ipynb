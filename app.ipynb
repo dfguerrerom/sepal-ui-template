{
 "cells": [
  {
   "cell_type": "code",
   "execution_count": 4,
   "metadata": {},
   "outputs": [],
   "source": [
    "import ipyvuetify as v\n",
    "from time import sleep\n",
    "import ee\n",
    "import sepal_ui.mapping as sm\n",
    "from IPython.display import Javascript\n",
    "# ee.Number(5).getInfo()\n",
    "# sleep(10000)"
   ]
  },
  {
   "cell_type": "code",
   "execution_count": 8,
   "metadata": {},
   "outputs": [
    {
     "data": {
      "application/javascript": "console.log('hello')",
      "text/plain": [
       "<IPython.core.display.Javascript object>"
      ]
     },
     "metadata": {
      "mount_id": "console"
     },
     "output_type": "display_data"
    }
   ],
   "source": [
    "display(Javascript(\"console.log('hello')\", ), metadata={\"mount_id\": \"console\"})"
   ]
  },
  {
   "cell_type": "code",
   "execution_count": 11,
   "metadata": {},
   "outputs": [],
   "source": [
    "# check that the map start with no info\n",
    "map_ = sm.SepalMap(_metadata={'mount_id': 'content'})"
   ]
  },
  {
   "cell_type": "code",
   "execution_count": 15,
   "metadata": {},
   "outputs": [
    {
     "data": {
      "text/plain": [
       "'7cfd1b86d46e41dd9fe96849d506bf45'"
      ]
     },
     "execution_count": 15,
     "metadata": {},
     "output_type": "execute_result"
    }
   ],
   "source": [
    "card = v.Card(children = [f\"{map_.model_id}\"], _metadata = {'mount_id': 'content'})\n",
    "card.children = [card.model_id]"
   ]
  },
  {
   "cell_type": "code",
   "execution_count": 16,
   "metadata": {},
   "outputs": [
    {
     "data": {
      "application/vnd.jupyter.widget-view+json": {
       "model_id": "a2126741ce2042fa95fac69f1a462dd6",
       "version_major": 2,
       "version_minor": 0
      },
      "text/plain": [
       "VuetifyTemplate(template='<script>{methods: {jupyter_embed(){/* set a selected map to embed mode (i.e. default…"
      ]
     },
     "metadata": {},
     "output_type": "display_data"
    },
    {
     "data": {
      "application/javascript": "/* set a selected map to embed mode (i.e. default display) */\nvar i = 0;\nconst wait_unitl_element_appear = setInterval(() => {\n  var element = document.querySelector(\".rhrevu .leaflet-container\");\n  if (element != null) {\n    element.style.position = \"\";\n    element.style.width = \"\";\n    element.style.height = \"\";\n    element.style.zIndex = \"\";\n    element.style.bottom = \"\";\n    element.style.left = \"\";\n    window.dispatchEvent(new Event(\"resize\"));\n    clearInterval(wait_unitl_element_appear);\n  } else if (i > 50) {\n    clearInterval(wait_unitl_element_appear);\n    console.log(\"cannot find the map element\");\n  } else {\n    i++;\n  }\n}, 100);\n",
      "text/plain": [
       "<IPython.core.display.Javascript object>"
      ]
     },
     "metadata": {},
     "output_type": "display_data"
    },
    {
     "data": {
      "application/vnd.jupyter.widget-view+json": {
       "model_id": "7cfd1b86d46e41dd9fe96849d506bf45",
       "version_major": 2,
       "version_minor": 0
      },
      "text/plain": [
       "SepalMap(center=[0, 0], controls=(ZoomControl(options=['position', 'transparent_bg'], position='topright', wid…"
      ]
     },
     "execution_count": 16,
     "metadata": {},
     "output_type": "execute_result"
    }
   ],
   "source": [
    "# add a fullscreenControl\n",
    "control = sm.FullScreenControl(map_)\n",
    "map_.add(control)"
   ]
  },
  {
   "cell_type": "code",
   "execution_count": null,
   "metadata": {},
   "outputs": [],
   "source": [
    "# app_bar_icon = v.AppBarNavIcon()\n",
    "# nav_drawer = v.NavigationDrawer(\n",
    "#     v_model=True,\n",
    "#     app=True,\n",
    "#     children=[\n",
    "#         v.List(\n",
    "#             nav=True,\n",
    "#             dense=True,\n",
    "#             children=[\n",
    "#                 v.ListItemGroup(\n",
    "#                     v_model=\"group\",\n",
    "#                     active_class=\"deep-purple--text text--accent-4\",\n",
    "#                     children=[\n",
    "#                         v.ListItem(children=[v.ListItemTitle(children=[\"Foo\"])]),\n",
    "#                         v.ListItem(children=[v.ListItemTitle(children=[\"Bar\"])]),\n",
    "#                         v.ListItem(children=[v.ListItemTitle(children=[\"Fizz\"])]),\n",
    "#                         v.ListItem(children=[v.ListItemTitle(children=[\"Buzz\"])]),\n",
    "#                     ],\n",
    "#                 )\n",
    "#             ],\n",
    "#         ),\n",
    "#     ],\n",
    "# )\n",
    "# app_bar_icon.on_event(\n",
    "#     \"click\", lambda *args: setattr(nav_drawer, \"v_model\", not nav_drawer.v_model)\n",
    "# )\n",
    "\n",
    "# button_fail = v.Btn(children=[\"Action 1\"])\n",
    "# # button_fail.on_event(\"click\", lambda *args: 1/0)\n",
    "# button_fail.on_event(\"click\", lambda *args: sleep(1))\n",
    "\n",
    "# v.App(\n",
    "#     _metadata={\"mount_id\": \"content\"},\n",
    "#     children=[\n",
    "#         # v.Overlay(color=\"blue\", opacity=1, style_=\"transition:unset\", z_index=-1),\n",
    "#         v.AppBar(\n",
    "#             app=True, children=[app_bar_icon, v.ToolbarTitle(children=[\"My files\"])]\n",
    "#         ),\n",
    "#         nav_drawer,\n",
    "#         v.Content(\n",
    "#             children=[\n",
    "#                 v.Container(\n",
    "#                     fluid=True,\n",
    "#                     children=[\n",
    "#                         map_, \n",
    "#                         # v.Layout(\n",
    "#                         #     align_center=True,\n",
    "#                         #     class_=\"ma-5\",\n",
    "#                         #     children=[\n",
    "#                         #         v.Card(\n",
    "#                         #             children=[\n",
    "#                         #                 v.CardTitle(children=[\"Card title\"]),\n",
    "#                         #                 v.CardText(\n",
    "#                         #                     children=[\"Some text goes here\" * 100]\n",
    "#                         #                 ),\n",
    "#                         #                 v.CardActions(\n",
    "#                         #                     children=[\n",
    "#                         #                         v.Btn(children=[\"Action 2\"]),\n",
    "#                         #                         button_fail\n",
    "#                         #                     ]\n",
    "#                         #                 ),\n",
    "#                         #             ]\n",
    "#                         #         )\n",
    "#                         #         for _ in range(3)\n",
    "#                         #     ],\n",
    "#                         # )\n",
    "#                     ],\n",
    "#                 )\n",
    "#             ]\n",
    "#         ),\n",
    "#     ],\n",
    "# )"
   ]
  }
 ],
 "metadata": {
  "kernelspec": {
   "display_name": "Python 3",
   "language": "python",
   "name": "python3"
  },
  "language_info": {
   "codemirror_mode": {
    "name": "ipython",
    "version": 3
   },
   "file_extension": ".py",
   "mimetype": "text/x-python",
   "name": "python",
   "nbconvert_exporter": "python",
   "pygments_lexer": "ipython3",
   "version": "3.10.12"
  }
 },
 "nbformat": 4,
 "nbformat_minor": 2
}
